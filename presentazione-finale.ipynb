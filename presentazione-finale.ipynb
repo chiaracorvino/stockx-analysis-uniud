{
 "cells": [
  {
   "cell_type": "markdown",
   "id": "5048d1eb-f265-485e-bd52-4fc5730d3e91",
   "metadata": {
    "editable": true,
    "slideshow": {
     "slide_type": "notes"
    },
    "tags": []
   },
   "source": [
    "<style>\n",
    ":root {\n",
    "  --r-main-font: \"Segoe UI\", system-ui, -apple-system, Roboto, Arial, sans-serif !important;\n",
    "  --r-heading-font: \"Segoe UI\", system-ui, -apple-system, Roboto, Arial, sans-serif !important;\n",
    "  --r-code-font: Consolas, \"Fira Code\", monospace !important;\n",
    "\n",
    "  /* dimensione base testo */\n",
    "  --r-main-font-size: 26px;\n",
    "}\n",
    "\n",
    ".reveal h1 { font-size: 44px !important; line-height: 1.15; }\n",
    ".reveal h2 { font-size: 30px !important; line-height: 1.20; }\n",
    "\n",
    "</style>"
   ]
  },
  {
   "cell_type": "markdown",
   "id": "f17c76a3-3298-45b1-b3d2-67e0f071234a",
   "metadata": {
    "editable": true,
    "slideshow": {
     "slide_type": "slide"
    },
    "tags": []
   },
   "source": [
    "# Dal negozio alla rivendita: quanto valgono le sneakers?\n",
    "## Yeezy vs Off-White — Analisi del dataset StockX (2017–2019)\n",
    "\n",
    "**Chiara Corvino**  \n",
    "IBML – Fondamenti di scienza dei dati e laboratorio\n",
    "\n",
    "<small>Fonte dati: StockX Data Contest 2019</small>\n",
    "\n",
    "<img src=\"logo.png\" alt=\"Logo Ateneo\" style=\"position:absolute;right:18px;bottom:18px;height:110px\">"
   ]
  },
  {
   "cell_type": "markdown",
   "id": "a601900f-5de2-471f-bdde-c84c313fb5ea",
   "metadata": {
    "editable": true,
    "slideshow": {
     "slide_type": "slide"
    },
    "tags": []
   },
   "source": [
    "<div style=\"position:relative; min-height:75vh; padding-bottom:40px; box-sizing:border-box;\">\n",
    "\n",
    "  <div style=\"display:flex; align-items:center; justify-content:space-between; gap:24px;\">\n",
    "    <div style=\"flex:1; max-width:58%;\">\n",
    "      <h2 style=\"margin:0 0 12px 0;\">Cos'è StockX?</h2>\n",
    "      <ul style=\"margin:0; padding-left:1.2em;\">\n",
    "        <li>Marketplace sneaker/streetwear con prezzi “da borsa” (domanda/offerta live).</li>\n",
    "        <li>Articoli autenticati prima della consegna.</li>\n",
    "        <li>Storico prezzi/vendite: mostra il “valore reale” post-lancio.</li>\n",
    "        <li>Prezzo/Offerta: quando si incontrano, l’ordine si chiude.</li>\n",
    "      </ul>\n",
    "    </div>\n",
    "    <div style=\"flex:0 0 auto;\">\n",
    "      <img src=\"stockx1.jpg\" alt=\"Schermata StockX\"\n",
    "           style=\"width:300px; max-width:30vw; max-height:55vh; height:auto; object-fit:contain; border-radius:8px;\">\n",
    "    </div>\n",
    "  </div>\n",
    "\n",
    "  <div style=\"position:absolute; left:0; bottom:0;\">\n",
    "    Dataset ufficiale: <em>StockX Data Contest 2019</em> (Kaggle:\n",
    "    <a href=\"https://www.kaggle.com/datasets/hudsonstuck/stockx-data-contest\" target=\"_blank\" rel=\"noopener noreferrer\">\n",
    "      https://www.kaggle.com/datasets/hudsonstuck/stockx-data-contest\n",
    "    </a>)\n",
    "  </div>\n",
    "</div>"
   ]
  },
  {
   "cell_type": "markdown",
   "id": "0efa0319-70ab-442f-be6b-199694425676",
   "metadata": {
    "editable": true,
    "slideshow": {
     "slide_type": "subslide"
    },
    "tags": []
   },
   "source": [
    "<!DOCTYPE html>\n",
    "<html lang=\"it\">\n",
    "<head>\n",
    "  <meta charset=\"UTF-8\" />\n",
    "  <meta name=\"viewport\" content=\"width=device-width, initial-scale=1.0\"/>\n",
    "</head>\n",
    "<body style=\"margin:0;\">\n",
    "\n",
    "\n",
    "  <div style=\"display:flex; justify-content:flex-start; align-items:flex-start; gap:12px;\">\n",
    "    <img src=\"stockx2.jpg\" alt=\"Schermata 2\"\n",
    "         style=\"width:35%; max-height:500px; object-fit:contain; border-radius:6px;\">\n",
    "    <img src=\"stockx3.jpg\" alt=\"Storico vendite\"\n",
    "         style=\"width:35%; max-height:500px; object-fit:contain; border-radius:6px; margin-left:auto;\">\n",
    "  </div>\n",
    "\n",
    "  \n",
    "  <div style=\"\n",
    "    position:fixed;\n",
    "    left:50%;\n",
    "    top:50%;\n",
    "    transform:translate(-50%,-50%);\n",
    "    font-size:28px;\n",
    "    font-weight:400;   \n",
    "    line-height:1.25;\n",
    "    text-align:center;\n",
    "    white-space:normal; \n",
    "    pointer-events:none;\n",
    "    z-index:9999;\n",
    "    color:#000;\n",
    "  \">\n",
    "    Andiamo più a fondo...\n",
    "  </div>\n",
    "\n",
    "</body>\n",
    "</html>"
   ]
  },
  {
   "cell_type": "markdown",
   "id": "45b4264b-b214-4f37-baff-2db32fa6133f",
   "metadata": {
    "editable": true,
    "slideshow": {
     "slide_type": "slide"
    },
    "tags": []
   },
   "source": [
    "# Domande guida\n",
    "\n",
    "1) Quali modelli concentrano la maggior parte delle transazioni?\n",
    "2) Come si evolve mese per mese la domanda (numero di ordini)?\n",
    "3) La taglia più venduta incide sul prezzo medio (per modello)?\n",
    "\n",
    "4) In quali Stati USA prevale Yeezy o Off-White?\n",
    "5) Qual è la relazione tra prezzo di listino e prezzo di vendita nel mercato secondario?"
   ]
  },
  {
   "cell_type": "code",
   "execution_count": null,
   "id": "b3e9dc49-28b4-4f2d-b175-d44d84fb671c",
   "metadata": {
    "editable": true,
    "slideshow": {
     "slide_type": "skip"
    },
    "tags": []
   },
   "outputs": [],
   "source": [
    "import matplotlib as mpl, matplotlib.pyplot as plt\n",
    "import plotly.io as pio\n",
    "\n",
    "FONT = \"Arial\"                       \n",
    "\n",
    "plt.style.use('seaborn-v0_8-whitegrid')\n",
    "mpl.rcParams['font.family'] = FONT   # Matplotlib\n",
    "\n",
    "pio.templates.default = \"seaborn\"    # Plotly\n",
    "pio.templates[\"seaborn\"].layout.font.family = FONT\n",
    "pio.templates[\"seaborn\"].layout.title.font.family = FONT\n",
    "pio.templates[\"seaborn\"].layout.legend.font.family = FONT"
   ]
  },
  {
   "cell_type": "markdown",
   "id": "f62cc2bc-9fdb-404c-a9fd-6dc183574f4f",
   "metadata": {
    "editable": true,
    "slideshow": {
     "slide_type": "slide"
    },
    "tags": []
   },
   "source": [
    "<h2 style=\"font-size:38px; line-height:1.2; margin:0 0 8px;\">\n",
    "Quali modelli concentrano la maggior parte delle transazioni?\n",
    "</h2>"
   ]
  },
  {
   "cell_type": "code",
   "execution_count": null,
   "id": "a6ff2a68-e08a-441c-920d-79e026d0054b",
   "metadata": {
    "editable": true,
    "slideshow": {
     "slide_type": "fragment"
    },
    "tags": []
   },
   "outputs": [],
   "source": [
    "import pandas as pd\n",
    "import seaborn as sns\n",
    "import matplotlib.pyplot as plt\n",
    "\n",
    "df = pd.read_csv('StockX-Data-Contest-2019-3.csv')\n",
    "df['Brand'] = df['Brand'].astype(str).str.strip()\n",
    "mask = (df['Brand'] == 'Yeezy') | df['Sneaker Name'].astype(str).str.contains('Off-White', case=False, na=False)\n",
    "top10 = df.loc[mask, 'Sneaker Name'].value_counts().head(10).sort_values()\n",
    "\n",
    "labels = ['-'.join(n.split('-')[-3:]) for n in top10.index]\n",
    "brands = ['Off-White' if 'Off-White' in n else 'Yeezy' for n in top10.index]\n",
    "plot_df = pd.DataFrame({'Label': labels, 'Count': top10.values, 'Brand': brands})\n",
    "\n",
    "sns.set_style(\"whitegrid\")\n",
    "fig, ax = plt.subplots(figsize=(10, 5))\n",
    "\n",
    "sns.barplot(\n",
    "    data=plot_df, y='Label', x='Count',\n",
    "    order=labels[::-1], orient='h',                  \n",
    "    hue='Brand', palette={'Yeezy':'steelblue','Off-White':'red'},\n",
    "    dodge=False, legend=False, errorbar=None, ax=ax, zorder=3\n",
    ")\n",
    "\n",
    "# Griglia, assi e titolo\n",
    "ax.grid(True, linestyle='-', alpha=0.5, zorder=0)\n",
    "ax.set_xlabel('Numero di transazioni')\n",
    "ax.set_ylabel('Modello scarpa')\n",
    "ax.set_title('Top 10 modelli più venduti')\n",
    "ax.set_xticks(range(0, int(top10.max()) + 1000, 1000))\n",
    "ax.set_xlim(0, int(top10.max()) + 1500)\n",
    "plt.setp(ax.get_yticklabels(), fontsize=9)\n",
    "\n",
    "# Valori sulle barre\n",
    "for bar in ax.patches:\n",
    "    w = int(bar.get_width())\n",
    "    ax.text(w + 50, bar.get_y() + bar.get_height()/2, f'{w:,}', va='center', fontsize=9, zorder=4)\n",
    "\n",
    "# Legenda\n",
    "ax.plot([], [], color='steelblue', label='Yeezy')\n",
    "ax.plot([], [], color='red', label='Off-White')\n",
    "ax.legend(title=\"Marca\", loc='lower right', frameon=True, framealpha=1)\n",
    "\n",
    "plt.show()"
   ]
  },
  {
   "cell_type": "markdown",
   "id": "b1aeb1d1-5585-4fb7-9be4-9adaa3054a23",
   "metadata": {
    "editable": true,
    "slideshow": {
     "slide_type": "slide"
    },
    "tags": []
   },
   "source": [
    "<h2 style=\"font-size:38px; line-height:1.2; margin:0 0 8px;\">\n",
    "Evoluzione mensile della domanda (numero di ordini)\n",
    "</h2>"
   ]
  },
  {
   "cell_type": "code",
   "execution_count": null,
   "id": "434cdb80-4404-48fb-af9c-26211fc65b24",
   "metadata": {
    "editable": true,
    "slideshow": {
     "slide_type": "fragment"
    },
    "tags": []
   },
   "outputs": [],
   "source": [
    "import pandas as pd \n",
    "import seaborn as sns\n",
    "import matplotlib.pyplot as plt\n",
    "\n",
    "df = pd.read_csv(\"StockX-Data-Contest-2019-3.csv\")\n",
    "df[\"Order Date\"] = pd.to_datetime(df[\"Order Date\"], format=\"%m/%d/%y\", errors=\"coerce\")\n",
    "df[\"Brand\"] = df[\"Brand\"].astype(str).str.strip()\n",
    "df = df.dropna(subset=[\"Order Date\",\"Brand\"])\n",
    "df = df[df[\"Brand\"].isin([\"Yeezy\",\"Off-White\"])]\n",
    "\n",
    "# Conteggi mensili\n",
    "g = (df.assign(Mese=df[\"Order Date\"].dt.to_period(\"M\").dt.to_timestamp())\n",
    "       .groupby([\"Mese\",\"Brand\"]).size().reset_index(name=\"Sales\"))\n",
    "\n",
    "# Grafico\n",
    "sns.set_theme(style=\"whitegrid\")\n",
    "fig, ax = plt.subplots(figsize=(13.5, 4.8), dpi=130)\n",
    "sns.lineplot(data=g, x=\"Mese\", y=\"Sales\", hue=\"Brand\",\n",
    "             hue_order=[\"Yeezy\",\"Off-White\"], palette=[\"#3498db\",\"#e74c3c\"],\n",
    "             marker=\"o\", linewidth=2, ax=ax)\n",
    "\n",
    "ax.set_xlabel(\"Mese\"); ax.set_ylabel(\"Numero di ordini\")\n",
    "\n",
    "# Lasso temporale ogni 2 mesi\n",
    "ticks = g[\"Mese\"].drop_duplicates().sort_values()[::2]\n",
    "ax.set_xticks(ticks)\n",
    "ax.set_xticklabels([t.strftime(\"%Y-%m\") for t in ticks])\n",
    "\n",
    "ax.legend(title=\"Brand\", loc=\"upper left\", frameon=True, framealpha=1)\n",
    "plt.tight_layout()\n",
    "plt.show()"
   ]
  },
  {
   "cell_type": "markdown",
   "id": "e5bc80ed-410f-4dab-b996-bcdf3bca230a",
   "metadata": {
    "editable": true,
    "slideshow": {
     "slide_type": "slide"
    },
    "tags": []
   },
   "source": [
    "<h2 style=\"font-size:34px; line-height:1.2; margin:0 0 8px;\">\n",
    "La taglia più venduta incide sul prezzo medio?\n",
    "</h2>"
   ]
  },
  {
   "cell_type": "code",
   "execution_count": null,
   "id": "b600a627-a7f4-43cb-bfc7-8d3ebb3d9517",
   "metadata": {
    "editable": true,
    "slideshow": {
     "slide_type": "fragment"
    },
    "tags": []
   },
   "outputs": [],
   "source": [
    "import pandas as pd\n",
    "import seaborn as sns\n",
    "import matplotlib.pyplot as plt\n",
    "import numpy as np\n",
    "\n",
    "df = pd.read_csv(\"StockX-Data-Contest-2019-3.csv\")\n",
    "df[\"Shoe Size\"]  = pd.to_numeric(df[\"Shoe Size\"], errors=\"coerce\")\n",
    "df[\"Sale Price\"] = pd.to_numeric(df[\"Sale Price\"].astype(str).str.replace(r\"[\\$,]\", \"\", regex=True), errors=\"coerce\")\n",
    "df[\"Brand\"]      = df[\"Brand\"].astype(str).str.strip()\n",
    "df[\"Sneaker Name\"] = df[\"Sneaker Name\"].astype(str)\n",
    "df = df.dropna(subset=[\"Shoe Size\",\"Sale Price\",\"Sneaker Name\",\"Brand\"])\n",
    "df = df[df[\"Brand\"].isin([\"Yeezy\",\"Off-White\"])]\n",
    "df = df[df[\"Shoe Size\"].between(3,16)]\n",
    "\n",
    "# Moda taglia + prezzo medio\n",
    "agg = (df.groupby([\"Sneaker Name\",\"Brand\"])\n",
    "         .agg(typ_size=(\"Shoe Size\", lambda s: s.mode().iloc[0]),\n",
    "              mean_price=(\"Sale Price\",\"mean\"))\n",
    "         .reset_index())\n",
    "\n",
    "# Jitter orizzontale\n",
    "np.random.seed(0)\n",
    "agg[\"x_jitter\"] = agg[\"typ_size\"] + np.random.uniform(-0.12, 0.12, size=len(agg))\n",
    "\n",
    "# Scatter\n",
    "sns.set_theme(style=\"whitegrid\")\n",
    "ax = sns.scatterplot(data=agg, x=\"x_jitter\", y=\"mean_price\", hue=\"Brand\",\n",
    "                     palette={\"Yeezy\":\"#3498db\",\"Off-White\":\"#e74c3c\"}, s=60)\n",
    "\n",
    "ax.set_title(\"Taglia più venduta vs Prezzo medio\")\n",
    "ax.set_xlabel(\"Taglia\")\n",
    "ax.set_ylabel(\"Prezzo medio ($)\")\n",
    "\n",
    "# Tick taglie reali (ogni 0.5)\n",
    "lo = np.floor(agg[\"typ_size\"].min()*2)/2\n",
    "hi = np.ceil(agg[\"typ_size\"].max()*2)/2\n",
    "ticks = np.arange(lo, hi+0.001, 0.5)\n",
    "ax.set_xticks(ticks)\n",
    "ax.set_xticklabels([f\"{t:.1f}\" for t in ticks])\n",
    "\n",
    "ax.legend(title=\"Brand\", loc=\"upper right\", frameon=True, framealpha=1)\n",
    "plt.tight_layout()\n",
    "plt.show()"
   ]
  },
  {
   "cell_type": "markdown",
   "id": "2cbba3a3-67d2-46e7-a650-1a7f2c93725a",
   "metadata": {
    "editable": true,
    "slideshow": {
     "slide_type": "slide"
    },
    "tags": []
   },
   "source": [
    "<h2 style=\"font-size:34px; line-height:1.10; margin:0 0 4px;\">\n",
    "In quali Stati USA prevale Yeezy o Off-White?\n",
    "</h2>"
   ]
  },
  {
   "cell_type": "code",
   "execution_count": null,
   "id": "f66b06b2-0337-4410-9ee7-761a5b933522",
   "metadata": {
    "editable": true,
    "slideshow": {
     "slide_type": "fragment"
    },
    "tags": []
   },
   "outputs": [],
   "source": [
    "import pandas as pd\n",
    "import plotly.graph_objects as go\n",
    "from IPython.display import HTML\n",
    "\n",
    "df = pd.read_csv(\"StockX-Data-Contest-2019-3.csv\")\n",
    "df['Brand'] = df['Brand'].astype(str).str.strip()\n",
    "df['Sneaker Name'] = df['Sneaker Name'].astype(str).str.strip()\n",
    "df['Buyer Region'] = df['Buyer Region'].astype(str).str.strip()\n",
    "\n",
    "state_to_abbr = {'ALABAMA':'AL','ALASKA':'AK','ARIZONA':'AZ','ARKANSAS':'AR','CALIFORNIA':'CA','COLORADO':'CO',\n",
    "'CONNECTICUT':'CT','DELAWARE':'DE','FLORIDA':'FL','GEORGIA':'GA','HAWAII':'HI','IDAHO':'ID','ILLINOIS':'IL',\n",
    "'INDIANA':'IN','IOWA':'IA','KANSAS':'KS','KENTUCKY':'KY','LOUISIANA':'LA','MAINE':'ME','MARYLAND':'MD',\n",
    "'MASSACHUSETTS':'MA','MICHIGAN':'MI','MINNESOTA':'MN','MISSISSIPPI':'MS','MISSOURI':'MO','MONTANA':'MT',\n",
    "'NEBRASKA':'NE','NEVADA':'NV','NEW HAMPSHIRE':'NH','NEW JERSEY':'NJ','NEW MEXICO':'NM','NEW YORK':'NY',\n",
    "'NORTH CAROLINA':'NC','NORTH DAKOTA':'ND','OHIO':'OH','OKLAHOMA':'OK','OREGON':'OR','PENNSYLVANIA':'PA',\n",
    "'RHODE ISLAND':'RI','SOUTH CAROLINA':'SC','SOUTH DAKOTA':'SD','TENNESSEE':'TN','TEXAS':'TX','UTAH':'UT',\n",
    "'VERMONT':'VT','VIRGINIA':'VA','WASHINGTON':'WA','WEST VIRGINIA':'WV','WISCONSIN':'WI','WYOMING':'WY',\n",
    "'DISTRICT OF COLUMBIA':'DC','WASHINGTON DC':'DC','WASHINGTON D.C.':'DC'}\n",
    "abbr = df['Buyer Region'].str.upper().replace(state_to_abbr)\n",
    "df['State'] = abbr.where(abbr.isin(set(state_to_abbr.values())))\n",
    "df = df.dropna(subset=['State'])\n",
    "\n",
    "# Solo Off-White\n",
    "b = df[df['Brand'].str.lower()=='off-white']\n",
    "\n",
    "target_model = b['Sneaker Name'].value_counts().idxmax()\n",
    "\n",
    "# Vincitore per Stato\n",
    "winners = (b.groupby(['State','Sneaker Name']).size()\n",
    "           .unstack(fill_value=0).idxmax(axis=1).rename('Winner').reset_index())\n",
    "\n",
    "# Stati dove vince il modello target\n",
    "target_states = winners.loc[winners['Winner']==target_model, 'State'].tolist()\n",
    "other_states = [s for s in winners['State'].unique().tolist() if s not in target_states]\n",
    "\n",
    "# Mappa\n",
    "fig = go.Figure()\n",
    "if other_states:\n",
    "    fig.add_choropleth(locations=other_states, locationmode='USA-states', z=[0]*len(other_states),\n",
    "                       colorscale=[[0,'#e6e6e6'],[1,'#e6e6e6']], showscale=False,\n",
    "                       marker_line_color='white', marker_line_width=0.5,\n",
    "                       hoverinfo='skip', name='', showlegend=False)\n",
    "if target_states:\n",
    "    fig.add_choropleth(locations=target_states, locationmode='USA-states', z=[1]*len(target_states),\n",
    "                       colorscale=[[0,'#e74c3c'],[1,'#e74c3c']],  # rosso\n",
    "                       showscale=False,\n",
    "                       marker_line_color='white', marker_line_width=0.5,\n",
    "                       hoverinfo='skip', name=target_model, showlegend=True)\n",
    "\n",
    "fig.update_geos(scope='usa', projection_type='albers usa')\n",
    "fig.update_layout(\n",
    "    title='Modello Off-White prevalente per Stato',\n",
    "    height=560, width=900, legend_title_text='Modello vincente',\n",
    "    legend=dict(itemclick=False, itemdoubleclick=False)\n",
    ")\n",
    "HTML(fig.to_html(include_plotlyjs='inline', full_html=False))"
   ]
  },
  {
   "cell_type": "code",
   "execution_count": null,
   "id": "f74b51fb-6270-4bfc-924b-b86c1d20a467",
   "metadata": {
    "editable": true,
    "slideshow": {
     "slide_type": "subslide"
    },
    "tags": []
   },
   "outputs": [],
   "source": [
    "import pandas as pd\n",
    "import plotly.graph_objects as go\n",
    "from IPython.display import HTML\n",
    "\n",
    "df = pd.read_csv(\"StockX-Data-Contest-2019-3.csv\")\n",
    "df['Brand'] = df['Brand'].astype(str).str.strip()\n",
    "df['Sneaker Name'] = df['Sneaker Name'].astype(str).str.strip()\n",
    "df['Buyer Region'] = df['Buyer Region'].astype(str).str.strip()\n",
    "\n",
    "state_to_abbr = {'ALABAMA':'AL','ALASKA':'AK','ARIZONA':'AZ','ARKANSAS':'AR','CALIFORNIA':'CA',\n",
    "'COLORADO':'CO','CONNECTICUT':'CT','DELAWARE':'DE','FLORIDA':'FL','GEORGIA':'GA','HAWAII':'HI','IDAHO':'ID',\n",
    "'ILLINOIS':'IL','INDIANA':'IN','IOWA':'IA','KANSAS':'KS','KENTUCKY':'KY','LOUISIANA':'LA','MAINE':'ME',\n",
    "'MARYLAND':'MD','MASSACHUSETTS':'MA','MICHIGAN':'MI','MINNESOTA':'MN','MISSISSIPPI':'MS','MISSOURI':'MO',\n",
    "'MONTANA':'MT','NEBRASKA':'NE','NEVADA':'NV','NEW HAMPSHIRE':'NH','NEW JERSEY':'NJ','NEW MEXICO':'NM',\n",
    "'NEW YORK':'NY','NORTH CAROLINA':'NC','NORTH DAKOTA':'ND','OHIO':'OH','OKLAHOMA':'OK','OREGON':'OR',\n",
    "'PENNSYLVANIA':'PA','RHODE ISLAND':'RI','SOUTH CAROLINA':'SC','SOUTH DAKOTA':'SD','TENNESSEE':'TN',\n",
    "'TEXAS':'TX','UTAH':'UT','VERMONT':'VT','VIRGINIA':'VA','WASHINGTON':'WA','WEST VIRGINIA':'WV',\n",
    "'WISCONSIN':'WI','WYOMING':'WY','DISTRICT OF COLUMBIA':'DC','WASHINGTON DC':'DC','WASHINGTON D.C.':'DC'}\n",
    "abbr = df['Buyer Region'].str.upper().replace(state_to_abbr)\n",
    "df['State'] = abbr.where(abbr.isin(set(state_to_abbr.values())))\n",
    "df = df.dropna(subset=['State'])\n",
    "\n",
    "# Solo Yeezy\n",
    "b = df[df['Brand'].str.lower()=='yeezy']\n",
    "\n",
    "target_model = b['Sneaker Name'].value_counts().idxmax()\n",
    "\n",
    "# Vincitore per Stato\n",
    "winners = (b.groupby(['State','Sneaker Name']).size()\n",
    "           .unstack(fill_value=0).idxmax(axis=1).rename('Winner').reset_index())\n",
    "\n",
    "# Stati dove vince il modello\n",
    "target_states = winners.loc[winners['Winner']==target_model, 'State'].tolist()\n",
    "other_states = [s for s in winners['State'].unique().tolist() if s not in target_states]\n",
    "\n",
    "# Mappa\n",
    "fig = go.Figure()\n",
    "if other_states:\n",
    "    fig.add_choropleth(locations=other_states, locationmode='USA-states', z=[0]*len(other_states),\n",
    "                       colorscale=[[0,'#e6e6e6'],[1,'#e6e6e6']], showscale=False,\n",
    "                       marker_line_color='white', marker_line_width=0.5,\n",
    "                       hoverinfo='skip', name='', showlegend=False)\n",
    "if target_states:\n",
    "    fig.add_choropleth(locations=target_states, locationmode='USA-states', z=[1]*len(target_states),\n",
    "                       colorscale=[[0,'#3498db'],[1,'#3498db']], showscale=False,\n",
    "                       marker_line_color='white', marker_line_width=0.5,\n",
    "                       hoverinfo='skip', name=target_model, showlegend=True)\n",
    "\n",
    "fig.update_geos(scope='usa', projection_type='albers usa')\n",
    "fig.update_layout(title='Modello Yeezy prevalente per Stato',\n",
    "                  height=560, width=900, legend_title_text='Modello vincente',\n",
    "                  legend=dict(itemclick=False, itemdoubleclick=False))\n",
    "HTML(fig.to_html(include_plotlyjs='inline', full_html=False))"
   ]
  },
  {
   "cell_type": "markdown",
   "id": "294c8cc6-b58c-48d7-b16f-1bc2fc5c07de",
   "metadata": {
    "editable": true,
    "slideshow": {
     "slide_type": "slide"
    },
    "tags": []
   },
   "source": [
    "<h2 style=\"font-size:34px; line-height:1.10; margin:0 0 4px;\">\n",
    "Come varia il prezzo di rivendita rispetto al listino nel mercato secondario?\n",
    "</h2>"
   ]
  },
  {
   "cell_type": "code",
   "execution_count": null,
   "id": "7a03615f-a019-4437-99b9-334a19519b72",
   "metadata": {
    "editable": true,
    "slideshow": {
     "slide_type": "fragment"
    },
    "tags": []
   },
   "outputs": [],
   "source": [
    "import pandas as pd\n",
    "import numpy as np\n",
    "import seaborn as sns\n",
    "import matplotlib.pyplot as plt\n",
    "\n",
    "sns.set_theme(style=\"whitegrid\")\n",
    "\n",
    "df = pd.read_csv(\"StockX-Data-Contest-2019-3.csv\")\n",
    "\n",
    "for c in ['Sale Price','Retail Price']:\n",
    "    df[c] = pd.to_numeric(df[c].astype(str).str.replace(r'[\\$,]', '', regex=True), errors='coerce')\n",
    "\n",
    "df['Brand'] = (df['Brand'].astype(str)\n",
    "               .str.strip()\n",
    "               .str.replace(r'(?i)off[\\s-]?white','Off-White',regex=True)\n",
    "               .str.replace(r'\\s+',' ',regex=True))\n",
    "\n",
    "df2 = df[df['Brand'].isin(['Yeezy','Off-White'])].dropna(subset=['Retail Price','Sale Price'])\n",
    "\n",
    "# Cast del prezzo di listino a stringa (le conto come categorie)\n",
    "df2['Retail_str'] = df2['Retail Price'].astype(int).astype(str)\n",
    "\n",
    "# Array ordinato con i prezzi di listino (come stringhe)\n",
    "order = ['130','150','160','170','190','200','220','250']\n",
    "\n",
    "# Boxplot\n",
    "plt.figure(figsize=(10,6), dpi=130)\n",
    "ax = sns.boxplot(\n",
    "    data=df2,\n",
    "    x='Retail_str',      \n",
    "    y='Sale Price',      \n",
    "    hue='Brand',         \n",
    "    order=order,         \n",
    "    palette={'Yeezy':'tab:blue','Off-White':'tab:red'}\n",
    ")\n",
    "\n",
    "plt.yscale('log')\n",
    "plt.ylim(100, 10000)\n",
    "\n",
    "# Linee verticali grigie per separare le coppie di box\n",
    "for i in range(7):\n",
    "    ax.axvline((i+1) - 0.5, color=\"lightgrey\", linestyle=\"--\", linewidth=1)\n",
    "\n",
    "plt.xlabel('Prezzo di Listino (USD)')\n",
    "plt.ylabel('Prezzo di Vendita (USD)')\n",
    "plt.legend(title='Brand', loc='upper right', frameon=True, framealpha=1)\n",
    "plt.tight_layout()\n",
    "plt.show()"
   ]
  },
  {
   "cell_type": "markdown",
   "id": "ffae7627-ed1d-47a0-b825-20bc10c2e27d",
   "metadata": {
    "editable": true,
    "slideshow": {
     "slide_type": "slide"
    },
    "tags": []
   },
   "source": [
    "## Conclusioni\n",
    "\n",
    "1. **Modelli:** le transazioni si concentrano soprattutto su Yeezy (specie 350 V2), con poche presenze stabili Off-White.\n",
    "\n",
    "2. **Evoluzione temporale:** picchi nei mesi dei drop, massimo a fine 2018; Off-White più forte in primavera 2018.\n",
    "\n",
    "3. **Taglie:** domanda concentrata sulle taglie 9–11; nessun legame chiaro tra taglia modale più grande e prezzo medio -> la taglia non spiega il prezzo\n",
    "\n",
    "4. **Geografia USA:** Off-White prevale in 43 Stati, mentre Yeezy in 17.\n",
    "\n",
    "5. **Listino vs vendita:** i prezzi di rivendita stanno quasi sempre sopra il listino; Off-White mostra scarti dal listino più ampi di Yeezy in tutte le fasce."
   ]
  }
 ],
 "metadata": {
  "kernelspec": {
   "display_name": "Python 3 (ipykernel)",
   "language": "python",
   "name": "python3"
  },
  "language_info": {
   "codemirror_mode": {
    "name": "ipython",
    "version": 3
   },
   "file_extension": ".py",
   "mimetype": "text/x-python",
   "name": "python",
   "nbconvert_exporter": "python",
   "pygments_lexer": "ipython3",
   "version": "3.13.2"
  }
 },
 "nbformat": 4,
 "nbformat_minor": 5
}
